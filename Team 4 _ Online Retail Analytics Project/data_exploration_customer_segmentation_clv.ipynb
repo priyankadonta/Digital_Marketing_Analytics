{
  "nbformat": 4,
  "nbformat_minor": 0,
  "metadata": {
    "colab": {
      "name": "ADM: Online Retail Analytics ",
      "provenance": [],
      "collapsed_sections": []
    },
    "kernelspec": {
      "name": "python3",
      "display_name": "Python 3"
    }
  },
  "cells": [
    {
      "cell_type": "code",
      "metadata": {
        "id": "y2NrmZ3ZBaUx",
        "colab_type": "code",
        "colab": {
          "base_uri": "https://localhost:8080/",
          "height": 70
        },
        "outputId": "ae2caf2d-0d7c-4a97-814e-6f88ce770d52"
      },
      "source": [
        "import pandas as pd\n",
        "from datetime import datetime, timedelta, date\n",
        "%matplotlib inline\n",
        "from sklearn.metrics import classification_report,confusion_matrix\n",
        "import matplotlib.pyplot as plt\n",
        "import numpy as np\n",
        "import seaborn as sns\n",
        "from __future__ import division\n",
        "from sklearn.cluster import KMeans\n",
        "import xgboost as xgb\n",
        "from sklearn.model_selection import KFold, cross_val_score, train_test_split"
      ],
      "execution_count": 1,
      "outputs": [
        {
          "output_type": "stream",
          "text": [
            "/usr/local/lib/python3.6/dist-packages/statsmodels/tools/_testing.py:19: FutureWarning: pandas.util.testing is deprecated. Use the functions in the public API at pandas.testing instead.\n",
            "  import pandas.util.testing as tm\n"
          ],
          "name": "stderr"
        }
      ]
    },
    {
      "cell_type": "code",
      "metadata": {
        "id": "Daz-lI6TBpdr",
        "colab_type": "code",
        "colab": {}
      },
      "source": [
        "df = pd.read_csv(\"data/dataset.csv\",encoding = \"ISO-8859-1\")"
      ],
      "execution_count": 0,
      "outputs": []
    },
    {
      "cell_type": "markdown",
      "metadata": {
        "id": "AXHcYIDSCI7u",
        "colab_type": "text"
      },
      "source": [
        "Datatype Conversion"
      ]
    },
    {
      "cell_type": "code",
      "metadata": {
        "id": "jM61FUUdCJet",
        "colab_type": "code",
        "colab": {}
      },
      "source": [
        "#Convert invoice date to datetime type\n",
        "df['InvoiceDate'] = pd.to_datetime(df['InvoiceDate'])\n",
        "\n",
        "#Creating YearMonth Field\n",
        "df['InvoiceYearMonth'] = df['InvoiceDate'].map(lambda date: 100*date.year + date.month)"
      ],
      "execution_count": 0,
      "outputs": []
    },
    {
      "cell_type": "markdown",
      "metadata": {
        "id": "mhCLPWdxB1zf",
        "colab_type": "text"
      },
      "source": [
        "# **Customer Metrics**"
      ]
    },
    {
      "cell_type": "markdown",
      "metadata": {
        "id": "2yvGx3J1G6-L",
        "colab_type": "text"
      },
      "source": [
        "**Customer Records**"
      ]
    },
    {
      "cell_type": "code",
      "metadata": {
        "id": "TxaQA5ozG6im",
        "colab_type": "code",
        "colab": {}
      },
      "source": [
        "#Revenue per customer\n",
        "df['Revenue'] = df['UnitPrice'] * df['Quantity']"
      ],
      "execution_count": 0,
      "outputs": []
    },
    {
      "cell_type": "code",
      "metadata": {
        "id": "IPNd5Fm2G2gd",
        "colab_type": "code",
        "colab": {}
      },
      "source": [
        "#Add Customer minimum purchase date\n",
        "min_purchase = df.groupby(['CustomerID']).InvoiceDate.min().reset_index()\n",
        "min_purchase.columns = ['CustomerID','MinPurchaseDate']\n",
        "min_purchase\n",
        "\n",
        "#Add Customer minimum purchase year month\n",
        "min_purchase['MinPurchaseYearMonth'] = min_purchase['MinPurchaseDate'].map(lambda date: 100*date.year + date.month)\n",
        "\n",
        "#Merge first purchase date and yearmonth column to our main dataframe\n",
        "df = pd.merge(df, min_purchase, on='CustomerID')"
      ],
      "execution_count": 0,
      "outputs": []
    },
    {
      "cell_type": "code",
      "metadata": {
        "id": "NED1fdm4I2wf",
        "colab_type": "code",
        "colab": {}
      },
      "source": [
        "#Categorize the user as new and existing\n",
        "df['UserType'] = 'New'\n",
        "df.loc[df['InvoiceYearMonth']>df['MinPurchaseYearMonth'],'UserType'] = 'Existing'"
      ],
      "execution_count": 0,
      "outputs": []
    },
    {
      "cell_type": "code",
      "metadata": {
        "id": "2IfiJ_1eJ5iL",
        "colab_type": "code",
        "colab": {}
      },
      "source": [
        "#New and existing user Ratio\n",
        "user_ratio = df.query(\"UserType == 'New'\").groupby(['InvoiceYearMonth'])['CustomerID'].nunique()/df.query(\"UserType == 'Existing'\").groupby(['InvoiceYearMonth'])['CustomerID'].nunique() \n",
        "user_ratio = user_ratio.reset_index()\n",
        "user_ratio = user_ratio.dropna()"
      ],
      "execution_count": 0,
      "outputs": []
    },
    {
      "cell_type": "code",
      "metadata": {
        "id": "6dVFNjuZBpDq",
        "colab_type": "code",
        "colab": {}
      },
      "source": [
        "#df_user = pd.DataFrame(df, columns = ['CustomerID', 'UserType']) "
      ],
      "execution_count": 0,
      "outputs": []
    },
    {
      "cell_type": "code",
      "metadata": {
        "id": "z9MCHO7aLcmA",
        "colab_type": "code",
        "colab": {}
      },
      "source": [
        "#df_user.groupby(by='UserType')"
      ],
      "execution_count": 0,
      "outputs": []
    },
    {
      "cell_type": "markdown",
      "metadata": {
        "id": "optBtcVrIAAN",
        "colab_type": "text"
      },
      "source": [
        "**Monthly Measures and Retention Rate**"
      ]
    },
    {
      "cell_type": "code",
      "metadata": {
        "id": "UEoT4Hl1H8gv",
        "colab_type": "code",
        "colab": {}
      },
      "source": [
        "#Calculate Montly revenue\n",
        "monthly_revenue = df.groupby(['InvoiceYearMonth'])['Revenue'].sum().reset_index()\n",
        "\n",
        "#Monthly order count\n",
        "monthly_sales = df.groupby(['InvoiceYearMonth'])['Quantity'].sum().reset_index()\n",
        "\n",
        "#Average Revenue per month\n",
        "monthly_order_avg = df.groupby(['InvoiceYearMonth'])['Revenue'].mean().reset_index()\n",
        "\n",
        "#Calculating Monthly Active Customer\n",
        "monthly_active = df.groupby(['InvoiceYearMonth'])['CustomerID'].nunique().reset_index()"
      ],
      "execution_count": 0,
      "outputs": []
    },
    {
      "cell_type": "code",
      "metadata": {
        "id": "9MHP8NPy_bgS",
        "colab_type": "code",
        "colab": {}
      },
      "source": [
        "print(\"Montly Revenue\")\n",
        "fig, ax = plt.subplots(figsize=(10,10))\n",
        "sns.barplot(x=\"InvoiceYearMonth\",y=\"Revenue\",data=monthly_revenue)"
      ],
      "execution_count": 0,
      "outputs": []
    },
    {
      "cell_type": "code",
      "metadata": {
        "id": "tkWs-r1jIyMh",
        "colab_type": "code",
        "colab": {}
      },
      "source": [
        "print(\"Montly Sales\")\n",
        "fig, ax = plt.subplots(figsize=(10,10))\n",
        "sns.barplot(x=\"InvoiceYearMonth\",y=\"Quantity\",data=monthly_sales)"
      ],
      "execution_count": 0,
      "outputs": []
    },
    {
      "cell_type": "code",
      "metadata": {
        "id": "KLzL__lkI5JV",
        "colab_type": "code",
        "colab": {}
      },
      "source": [
        "print(\"Montly average revenue\")\n",
        "fig, ax = plt.subplots(figsize=(10,10))\n",
        "sns.barplot(x=\"InvoiceYearMonth\",y=\"Revenue\",data=monthly_order_avg)"
      ],
      "execution_count": 0,
      "outputs": []
    },
    {
      "cell_type": "code",
      "metadata": {
        "id": "SyPIhMWeJAvt",
        "colab_type": "code",
        "colab": {}
      },
      "source": [
        "print(\"Montly Active Customers\")\n",
        "fig, ax = plt.subplots(figsize=(10,10))\n",
        "sns.barplot(x=\"InvoiceYearMonth\",y=\"CustomerID\",data=monthly_active)"
      ],
      "execution_count": 0,
      "outputs": []
    },
    {
      "cell_type": "code",
      "metadata": {
        "id": "W3_0v7eqJvZZ",
        "colab_type": "code",
        "colab": {}
      },
      "source": [
        "#calculate the Revenue per month for each user type\n",
        "user_type_revenue = df.groupby(['InvoiceYearMonth','UserType'])['Revenue'].sum().reset_index()\n",
        "\n",
        "#Out the User Type Revenue file\n",
        "user_type_revenue.to_csv('User_Type_Revenue.csv')"
      ],
      "execution_count": 0,
      "outputs": []
    },
    {
      "cell_type": "markdown",
      "metadata": {
        "id": "2SL3Q14nJ5yv",
        "colab_type": "text"
      },
      "source": [
        "Retention Rate"
      ]
    },
    {
      "cell_type": "code",
      "metadata": {
        "id": "WqE2wm6CJyGu",
        "colab_type": "code",
        "colab": {}
      },
      "source": [
        "#identify which users are active by looking at their revenue per month\n",
        "user_purchase = df.groupby(['CustomerID','InvoiceYearMonth'])['Revenue'].sum().reset_index()\n",
        "\n",
        "#create retention matrix with crosstab\n",
        "retention = pd.crosstab(user_purchase['CustomerID'], user_purchase['InvoiceYearMonth']).reset_index()\n",
        "\n",
        "#retention\n",
        "\n",
        "#create an array of dictionary which keeps Retained & Total User count for each month\n",
        "months = retention.columns[2:]\n",
        "retention_array = []\n",
        "for i in range(len(months)-1):\n",
        "     retention_data = {}\n",
        "     selected_month = months[i+1]\n",
        "     prev_month = months[i]\n",
        "     retention_data['InvoiceYearMonth'] = int(selected_month)\n",
        "     retention_data['TotalUserCount'] = retention[selected_month].sum()\n",
        "     retention_data['RetainedUserCount'] = retention[(retention[selected_month]>0) & (retention[prev_month]>0)][selected_month].sum()\n",
        "     retention_array.append(retention_data)\n",
        "\n",
        "retention_array\n",
        "    \n",
        "#convert the array to dataframe and calculate Retention Rate\n",
        "retention = pd.DataFrame(retention_array)\n",
        "retention['RetentionRate'] = retention['RetainedUserCount']/retention['TotalUserCount']\n",
        "retention.to_csv(\"retention_rate.csv\")"
      ],
      "execution_count": 0,
      "outputs": []
    },
    {
      "cell_type": "markdown",
      "metadata": {
        "id": "DEWRuof4KbFr",
        "colab_type": "text"
      },
      "source": [
        "# **Calculate RFM Score**"
      ]
    },
    {
      "cell_type": "markdown",
      "metadata": {
        "id": "1TECm7_rMVef",
        "colab_type": "text"
      },
      "source": [
        "### Recency cluster using \"InvoiceDate\"\n"
      ]
    },
    {
      "cell_type": "code",
      "metadata": {
        "id": "AVI2G-Y7Kahx",
        "colab_type": "code",
        "colab": {}
      },
      "source": [
        "#create a generic user dataframe to keep CustomerID and new segmentation scores\n",
        "recency_user = pd.DataFrame(df['CustomerID'].unique())\n",
        "recency_user.columns = ['CustomerID']\n",
        "\n",
        "#get the max purchase date for each customer and create a dataframe with it\n",
        "recency_max_purchase = df.groupby('CustomerID').InvoiceDate.max().reset_index()\n",
        "recency_max_purchase.columns = ['CustomerID','MaxPurchaseDate']\n",
        "\n",
        "#we take our observation point as the max invoice date in our dataset\n",
        "recency_max_purchase['Recency'] = (recency_max_purchase['MaxPurchaseDate'].max() - recency_max_purchase['MaxPurchaseDate']).dt.days\n",
        "\n",
        "#merge this dataframe to our new user dataframe\n",
        "recency_user = pd.merge(recency_user, recency_max_purchase[['CustomerID','Recency']], on='CustomerID')\n",
        "\n",
        "#build 4 clusters for recency and add it to dataframe\n",
        "kmeans = KMeans(n_clusters=4)\n",
        "kmeans.fit(recency_user[['Recency']])\n",
        "recency_user['RecencyCluster'] = kmeans.predict(recency_user[['Recency']])\n",
        "\n",
        "#function for ordering cluster numbers\n",
        "def order_cluster(cluster_field_name, target_field_name,df,ascending):\n",
        "    new_cluster_field_name = 'new_' + cluster_field_name\n",
        "    df_new = df.groupby(cluster_field_name)[target_field_name].mean().reset_index()\n",
        "    df_new = df_new.sort_values(by=target_field_name,ascending=ascending).reset_index(drop=True)\n",
        "    df_new['index'] = df_new.index\n",
        "    df_final = pd.merge(df,df_new[[cluster_field_name,'index']], on=cluster_field_name)\n",
        "    df_final = df_final.drop([cluster_field_name],axis=1)\n",
        "    df_final = df_final.rename(columns={\"index\":cluster_field_name})\n",
        "    return df_final\n",
        "\n",
        "recency_user = order_cluster('RecencyCluster', 'Recency',recency_user,False)\n",
        "#recency_user.head(5)\n"
      ],
      "execution_count": 0,
      "outputs": []
    },
    {
      "cell_type": "code",
      "metadata": {
        "id": "MeG3r7sPRV_K",
        "colab_type": "code",
        "colab": {}
      },
      "source": [
        "#sns.barplot(x='RecencyCluster',y='Recency',data=recency_user)"
      ],
      "execution_count": 0,
      "outputs": []
    },
    {
      "cell_type": "markdown",
      "metadata": {
        "id": "_xTktb-ZNDdK",
        "colab_type": "text"
      },
      "source": [
        "### Frequency cluster using \"Order Count\""
      ]
    },
    {
      "cell_type": "code",
      "metadata": {
        "id": "rtWCou55NL2s",
        "colab_type": "code",
        "colab": {}
      },
      "source": [
        "#get order counts for each user and create a dataframe with it\n",
        "frequency_user = df.groupby('CustomerID').InvoiceDate.count().reset_index()\n",
        "frequency_user.columns = ['CustomerID','Frequency']\n",
        "\n",
        "#add this data to our main dataframe\n",
        "recency_frequency_user = pd.merge(recency_user, frequency_user, on='CustomerID')\n",
        "recency_frequency_user.head()\n",
        "\n",
        "#k-means\n",
        "kmeans = KMeans(n_clusters=4)\n",
        "kmeans.fit(recency_frequency_user[['Frequency']])\n",
        "recency_frequency_user['FrequencyCluster'] = kmeans.predict(recency_frequency_user[['Frequency']])\n",
        "\n",
        "#order the frequency cluster\n",
        "recency_frequency_user = order_cluster('FrequencyCluster', 'Frequency',recency_frequency_user,True)\n",
        "#recency_frequency_user.head(5)\n",
        "\n",
        "#see details of each cluster\n",
        "#recency_frequency_user.groupby('FrequencyCluster')['Frequency'].describe()\n"
      ],
      "execution_count": 0,
      "outputs": []
    },
    {
      "cell_type": "markdown",
      "metadata": {
        "id": "FW4GTIcrOyuc",
        "colab_type": "text"
      },
      "source": [
        "### Monetory cluster using \"Revenue\""
      ]
    },
    {
      "cell_type": "code",
      "metadata": {
        "id": "P_bDg4HKO_W1",
        "colab_type": "code",
        "colab": {}
      },
      "source": [
        "#Create dataframe for Monetory users\n",
        "monetory_user = df.groupby('CustomerID').Revenue.sum().reset_index()\n",
        "\n",
        "#merge it with our main dataframe\n",
        "recency_frequency_monetory_user = pd.merge(recency_frequency_user, monetory_user, on='CustomerID')\n",
        "\n",
        "#apply clustering\n",
        "kmeans = KMeans(n_clusters=4)\n",
        "kmeans.fit(recency_frequency_monetory_user[['Revenue']])\n",
        "recency_frequency_monetory_user['RevenueCluster'] = kmeans.predict(recency_frequency_monetory_user[['Revenue']])\n",
        "\n",
        "\n",
        "#order the cluster numbers\n",
        "recency_frequency_monetory_user = order_cluster('RevenueCluster', 'Revenue',recency_frequency_monetory_user,True)\n",
        "\n",
        "#recency_frequency_monetory_user.head()"
      ],
      "execution_count": 0,
      "outputs": []
    },
    {
      "cell_type": "markdown",
      "metadata": {
        "id": "0rtUYLLQQdlk",
        "colab_type": "text"
      },
      "source": [
        "### Overall Score by Summing all the cluster groups"
      ]
    },
    {
      "cell_type": "code",
      "metadata": {
        "id": "YQSEXwUtQOQW",
        "colab_type": "code",
        "colab": {
          "base_uri": "https://localhost:8080/",
          "height": 397
        },
        "outputId": "887c509e-dd8f-4554-bd95-add7d17e2ec1"
      },
      "source": [
        "#calculate overall score and use mean() to see details\n",
        "recency_frequency_monetory_user['OverallScore'] = recency_frequency_monetory_user['RecencyCluster'] + recency_frequency_monetory_user['FrequencyCluster'] + recency_frequency_monetory_user['RevenueCluster']\n",
        "recency_frequency_monetory_user.groupby('OverallScore')['Recency','Frequency','Revenue'].mean()"
      ],
      "execution_count": 21,
      "outputs": [
        {
          "output_type": "stream",
          "text": [
            "/usr/local/lib/python3.6/dist-packages/ipykernel_launcher.py:2: FutureWarning: Indexing with multiple keys (implicitly converted to a tuple of keys) will be deprecated, use a list instead.\n",
            "  \n"
          ],
          "name": "stderr"
        },
        {
          "output_type": "execute_result",
          "data": {
            "text/html": [
              "<div>\n",
              "<style scoped>\n",
              "    .dataframe tbody tr th:only-of-type {\n",
              "        vertical-align: middle;\n",
              "    }\n",
              "\n",
              "    .dataframe tbody tr th {\n",
              "        vertical-align: top;\n",
              "    }\n",
              "\n",
              "    .dataframe thead th {\n",
              "        text-align: right;\n",
              "    }\n",
              "</style>\n",
              "<table border=\"1\" class=\"dataframe\">\n",
              "  <thead>\n",
              "    <tr style=\"text-align: right;\">\n",
              "      <th></th>\n",
              "      <th>Recency</th>\n",
              "      <th>Frequency</th>\n",
              "      <th>Revenue</th>\n",
              "    </tr>\n",
              "    <tr>\n",
              "      <th>OverallScore</th>\n",
              "      <th></th>\n",
              "      <th></th>\n",
              "      <th></th>\n",
              "    </tr>\n",
              "  </thead>\n",
              "  <tbody>\n",
              "    <tr>\n",
              "      <th>0</th>\n",
              "      <td>308.960239</td>\n",
              "      <td>21.980119</td>\n",
              "      <td>328.607117</td>\n",
              "    </tr>\n",
              "    <tr>\n",
              "      <th>1</th>\n",
              "      <td>190.586710</td>\n",
              "      <td>33.243112</td>\n",
              "      <td>550.290147</td>\n",
              "    </tr>\n",
              "    <tr>\n",
              "      <th>2</th>\n",
              "      <td>81.665339</td>\n",
              "      <td>46.433267</td>\n",
              "      <td>909.752841</td>\n",
              "    </tr>\n",
              "    <tr>\n",
              "      <th>3</th>\n",
              "      <td>21.172276</td>\n",
              "      <td>69.945807</td>\n",
              "      <td>1236.218728</td>\n",
              "    </tr>\n",
              "    <tr>\n",
              "      <th>4</th>\n",
              "      <td>13.509091</td>\n",
              "      <td>302.438961</td>\n",
              "      <td>4380.503506</td>\n",
              "    </tr>\n",
              "    <tr>\n",
              "      <th>5</th>\n",
              "      <td>7.400000</td>\n",
              "      <td>491.435294</td>\n",
              "      <td>13810.254706</td>\n",
              "    </tr>\n",
              "    <tr>\n",
              "      <th>6</th>\n",
              "      <td>7.307692</td>\n",
              "      <td>985.230769</td>\n",
              "      <td>38669.643077</td>\n",
              "    </tr>\n",
              "    <tr>\n",
              "      <th>7</th>\n",
              "      <td>2.555556</td>\n",
              "      <td>2432.555556</td>\n",
              "      <td>98056.746667</td>\n",
              "    </tr>\n",
              "    <tr>\n",
              "      <th>8</th>\n",
              "      <td>1.333333</td>\n",
              "      <td>4372.000000</td>\n",
              "      <td>156394.183333</td>\n",
              "    </tr>\n",
              "  </tbody>\n",
              "</table>\n",
              "</div>"
            ],
            "text/plain": [
              "                 Recency    Frequency        Revenue\n",
              "OverallScore                                        \n",
              "0             308.960239    21.980119     328.607117\n",
              "1             190.586710    33.243112     550.290147\n",
              "2              81.665339    46.433267     909.752841\n",
              "3              21.172276    69.945807    1236.218728\n",
              "4              13.509091   302.438961    4380.503506\n",
              "5               7.400000   491.435294   13810.254706\n",
              "6               7.307692   985.230769   38669.643077\n",
              "7               2.555556  2432.555556   98056.746667\n",
              "8               1.333333  4372.000000  156394.183333"
            ]
          },
          "metadata": {
            "tags": []
          },
          "execution_count": 21
        }
      ]
    },
    {
      "cell_type": "markdown",
      "metadata": {
        "id": "4jemUcHaQrSa",
        "colab_type": "text"
      },
      "source": [
        "# **Customer Segmentation**"
      ]
    },
    {
      "cell_type": "code",
      "metadata": {
        "id": "GwpxacQxQvSd",
        "colab_type": "code",
        "colab": {}
      },
      "source": [
        "recency_frequency_monetory_user['Segment'] = 'Low-Value'\n",
        "recency_frequency_monetory_user.loc[recency_frequency_monetory_user['OverallScore']>2,'Segment'] = 'Mid-Value' \n",
        "recency_frequency_monetory_user.loc[recency_frequency_monetory_user['OverallScore']>4,'Segment'] = 'High-Value'"
      ],
      "execution_count": 0,
      "outputs": []
    },
    {
      "cell_type": "code",
      "metadata": {
        "id": "Y4uD0gZxQkLb",
        "colab_type": "code",
        "colab": {
          "base_uri": "https://localhost:8080/",
          "height": 34
        },
        "outputId": "7ff95c41-45ad-4741-b0b4-40ba1cacc914"
      },
      "source": [
        "recency_frequency_monetory_user['Revenue'].max()"
      ],
      "execution_count": 23,
      "outputs": [
        {
          "output_type": "execute_result",
          "data": {
            "text/plain": [
              "279489.0199999999"
            ]
          },
          "metadata": {
            "tags": []
          },
          "execution_count": 23
        }
      ]
    },
    {
      "cell_type": "code",
      "metadata": {
        "id": "cCFv5X4PRJCa",
        "colab_type": "code",
        "colab": {
          "base_uri": "https://localhost:8080/",
          "height": 34
        },
        "outputId": "9e2bbd5a-53e9-4f70-bb72-f62ef494b0f8"
      },
      "source": [
        "#Revenue vs Frequency\n",
        "rvf_graph = recency_frequency_monetory_user.query(\"Revenue > 50000 and Frequency > 1000\")\n",
        "rvf_graph['Revenue'].max()"
      ],
      "execution_count": 25,
      "outputs": [
        {
          "output_type": "execute_result",
          "data": {
            "text/plain": [
              "279489.0199999999"
            ]
          },
          "metadata": {
            "tags": []
          },
          "execution_count": 25
        }
      ]
    },
    {
      "cell_type": "code",
      "metadata": {
        "id": "d2NUtNVIPZ4q",
        "colab_type": "code",
        "outputId": "65ffce46-fad3-4774-cdf5-c45f5a2995be",
        "colab": {
          "base_uri": "https://localhost:8080/",
          "height": 402
        }
      },
      "source": [
        "#Use this for Visualization : Customer Segmentation Information\n",
        "df_customer_segmentation = pd.DataFrame(recency_frequency_monetory_user, columns = ['CustomerID','RecencyCluster','FrequencyCluster','RevenueCluster','OverallScore','Segment'])\n",
        "df_customer_segmentation.to_csv(\"Customer_Segmentation.csv\")\n",
        "df_customer_segmentation"
      ],
      "execution_count": 50,
      "outputs": [
        {
          "output_type": "execute_result",
          "data": {
            "text/html": [
              "<div>\n",
              "<style scoped>\n",
              "    .dataframe tbody tr th:only-of-type {\n",
              "        vertical-align: middle;\n",
              "    }\n",
              "\n",
              "    .dataframe tbody tr th {\n",
              "        vertical-align: top;\n",
              "    }\n",
              "\n",
              "    .dataframe thead th {\n",
              "        text-align: right;\n",
              "    }\n",
              "</style>\n",
              "<table border=\"1\" class=\"dataframe\">\n",
              "  <thead>\n",
              "    <tr style=\"text-align: right;\">\n",
              "      <th></th>\n",
              "      <th>CustomerID</th>\n",
              "      <th>RecencyCluster</th>\n",
              "      <th>FrequencyCluster</th>\n",
              "      <th>RevenueCluster</th>\n",
              "      <th>OverallScore</th>\n",
              "      <th>Segment</th>\n",
              "    </tr>\n",
              "  </thead>\n",
              "  <tbody>\n",
              "    <tr>\n",
              "      <th>0</th>\n",
              "      <td>17850.0</td>\n",
              "      <td>0</td>\n",
              "      <td>1</td>\n",
              "      <td>0</td>\n",
              "      <td>1</td>\n",
              "      <td>Low-Value</td>\n",
              "    </tr>\n",
              "    <tr>\n",
              "      <th>1</th>\n",
              "      <td>15808.0</td>\n",
              "      <td>0</td>\n",
              "      <td>1</td>\n",
              "      <td>0</td>\n",
              "      <td>1</td>\n",
              "      <td>Low-Value</td>\n",
              "    </tr>\n",
              "    <tr>\n",
              "      <th>2</th>\n",
              "      <td>13047.0</td>\n",
              "      <td>3</td>\n",
              "      <td>1</td>\n",
              "      <td>0</td>\n",
              "      <td>4</td>\n",
              "      <td>Mid-Value</td>\n",
              "    </tr>\n",
              "    <tr>\n",
              "      <th>3</th>\n",
              "      <td>12583.0</td>\n",
              "      <td>3</td>\n",
              "      <td>1</td>\n",
              "      <td>0</td>\n",
              "      <td>4</td>\n",
              "      <td>Mid-Value</td>\n",
              "    </tr>\n",
              "    <tr>\n",
              "      <th>4</th>\n",
              "      <td>14688.0</td>\n",
              "      <td>3</td>\n",
              "      <td>1</td>\n",
              "      <td>0</td>\n",
              "      <td>4</td>\n",
              "      <td>Mid-Value</td>\n",
              "    </tr>\n",
              "    <tr>\n",
              "      <th>...</th>\n",
              "      <td>...</td>\n",
              "      <td>...</td>\n",
              "      <td>...</td>\n",
              "      <td>...</td>\n",
              "      <td>...</td>\n",
              "      <td>...</td>\n",
              "    </tr>\n",
              "    <tr>\n",
              "      <th>4367</th>\n",
              "      <td>12748.0</td>\n",
              "      <td>3</td>\n",
              "      <td>3</td>\n",
              "      <td>1</td>\n",
              "      <td>7</td>\n",
              "      <td>High-Value</td>\n",
              "    </tr>\n",
              "    <tr>\n",
              "      <th>4368</th>\n",
              "      <td>17841.0</td>\n",
              "      <td>3</td>\n",
              "      <td>3</td>\n",
              "      <td>1</td>\n",
              "      <td>7</td>\n",
              "      <td>High-Value</td>\n",
              "    </tr>\n",
              "    <tr>\n",
              "      <th>4369</th>\n",
              "      <td>17450.0</td>\n",
              "      <td>3</td>\n",
              "      <td>1</td>\n",
              "      <td>3</td>\n",
              "      <td>7</td>\n",
              "      <td>High-Value</td>\n",
              "    </tr>\n",
              "    <tr>\n",
              "      <th>4370</th>\n",
              "      <td>18102.0</td>\n",
              "      <td>3</td>\n",
              "      <td>1</td>\n",
              "      <td>3</td>\n",
              "      <td>7</td>\n",
              "      <td>High-Value</td>\n",
              "    </tr>\n",
              "    <tr>\n",
              "      <th>4371</th>\n",
              "      <td>14646.0</td>\n",
              "      <td>3</td>\n",
              "      <td>2</td>\n",
              "      <td>3</td>\n",
              "      <td>8</td>\n",
              "      <td>High-Value</td>\n",
              "    </tr>\n",
              "  </tbody>\n",
              "</table>\n",
              "<p>4372 rows × 6 columns</p>\n",
              "</div>"
            ],
            "text/plain": [
              "      CustomerID  RecencyCluster  ...  OverallScore     Segment\n",
              "0        17850.0               0  ...             1   Low-Value\n",
              "1        15808.0               0  ...             1   Low-Value\n",
              "2        13047.0               3  ...             4   Mid-Value\n",
              "3        12583.0               3  ...             4   Mid-Value\n",
              "4        14688.0               3  ...             4   Mid-Value\n",
              "...          ...             ...  ...           ...         ...\n",
              "4367     12748.0               3  ...             7  High-Value\n",
              "4368     17841.0               3  ...             7  High-Value\n",
              "4369     17450.0               3  ...             7  High-Value\n",
              "4370     18102.0               3  ...             7  High-Value\n",
              "4371     14646.0               3  ...             8  High-Value\n",
              "\n",
              "[4372 rows x 6 columns]"
            ]
          },
          "metadata": {
            "tags": []
          },
          "execution_count": 50
        }
      ]
    },
    {
      "cell_type": "markdown",
      "metadata": {
        "id": "JwVUbeMurdNx",
        "colab_type": "text"
      },
      "source": [
        "# **Customer Lifetime Value**"
      ]
    },
    {
      "cell_type": "code",
      "metadata": {
        "id": "WKw1xB7Du6lg",
        "colab_type": "code",
        "colab": {}
      },
      "source": [
        "df['InvoiceDate'] = pd.to_datetime(df['InvoiceDate']).apply(lambda x: x.date())"
      ],
      "execution_count": 0,
      "outputs": []
    },
    {
      "cell_type": "markdown",
      "metadata": {
        "id": "Zol4EpHKuHDj",
        "colab_type": "text"
      },
      "source": [
        "3 months and 6 months dataframe"
      ]
    },
    {
      "cell_type": "code",
      "metadata": {
        "id": "CXkR98WsrcPQ",
        "colab_type": "code",
        "colab": {}
      },
      "source": [
        "df_3m = df[(df.InvoiceDate < date(2011,6,1)) & (df.InvoiceDate >= date(2011,3,1))].reset_index(drop=True)\n",
        "df_6m = df[(df.InvoiceDate >= date(2011,6,1)) & (df.InvoiceDate < date(2011,12,1))].reset_index(drop=True)"
      ],
      "execution_count": 0,
      "outputs": []
    },
    {
      "cell_type": "code",
      "metadata": {
        "id": "pt1NGbcTvDHp",
        "colab_type": "code",
        "colab": {}
      },
      "source": [
        "#create df_user for assigning clustering\n",
        "df_user = pd.DataFrame(df_3m['CustomerID'].unique())\n",
        "df_user.columns = ['CustomerID']\n",
        "\n",
        "#order cluster method\n",
        "def order_cluster(cluster_field_name, target_field_name,df,ascending):\n",
        "    new_cluster_field_name = 'new_' + cluster_field_name\n",
        "    df_new = df.groupby(cluster_field_name)[target_field_name].mean().reset_index()\n",
        "    df_new = df_new.sort_values(by=target_field_name,ascending=ascending).reset_index(drop=True)\n",
        "    df_new['index'] = df_new.index\n",
        "    df_final = pd.merge(df,df_new[[cluster_field_name,'index']], on=cluster_field_name)\n",
        "    df_final = df_final.drop([cluster_field_name],axis=1)\n",
        "    df_final = df_final.rename(columns={\"index\":cluster_field_name})\n",
        "    return df_final"
      ],
      "execution_count": 0,
      "outputs": []
    },
    {
      "cell_type": "markdown",
      "metadata": {
        "id": "yUa9D5n-vrTH",
        "colab_type": "text"
      },
      "source": [
        "RFM Score for 3 months"
      ]
    },
    {
      "cell_type": "code",
      "metadata": {
        "id": "0uByobrwvkPU",
        "colab_type": "code",
        "colab": {}
      },
      "source": [
        "#Recency dataframe\n",
        "df_max_purchase = df_3m.groupby('CustomerID').InvoiceDate.max().reset_index()\n",
        "df_max_purchase.columns = ['CustomerID','MaxPurchaseDate']\n",
        "df_max_purchase['Recency'] = (df_max_purchase['MaxPurchaseDate'].max() - df_max_purchase['MaxPurchaseDate']).dt.days\n",
        "df_user = pd.merge(df_user, df_max_purchase[['CustomerID','Recency']], on='CustomerID')"
      ],
      "execution_count": 0,
      "outputs": []
    },
    {
      "cell_type": "code",
      "metadata": {
        "id": "fgp7h5FlxpBP",
        "colab_type": "code",
        "colab": {}
      },
      "source": [
        "#Recency Cluster\n",
        "kmeans = KMeans(n_clusters=4)\n",
        "kmeans.fit(df_user[['Recency']])\n",
        "df_user['RecencyCluster'] = kmeans.predict(df_user[['Recency']])\n",
        "\n",
        "df_user = order_cluster('RecencyCluster', 'Recency',df_user,False)"
      ],
      "execution_count": 0,
      "outputs": []
    },
    {
      "cell_type": "code",
      "metadata": {
        "id": "p7b7MJFiwEeS",
        "colab_type": "code",
        "colab": {}
      },
      "source": [
        "#Frequency dataframe\n",
        "df_frequency = df_3m.groupby('CustomerID').InvoiceDate.count().reset_index()\n",
        "df_frequency.columns = ['CustomerID','Frequency']\n",
        "df_user = pd.merge(df_user, df_frequency, on='CustomerID')"
      ],
      "execution_count": 0,
      "outputs": []
    },
    {
      "cell_type": "code",
      "metadata": {
        "id": "gjTIVRWKyJMC",
        "colab_type": "code",
        "colab": {}
      },
      "source": [
        "#Frequency cluster\n",
        "kmeans = KMeans(n_clusters=4)\n",
        "kmeans.fit(df_user[['Frequency']])\n",
        "df_user['FrequencyCluster'] = kmeans.predict(df_user[['Frequency']])\n",
        "\n",
        "df_user = order_cluster('FrequencyCluster', 'Frequency',df_user,True)"
      ],
      "execution_count": 0,
      "outputs": []
    },
    {
      "cell_type": "code",
      "metadata": {
        "id": "XC2u4od2wGWn",
        "colab_type": "code",
        "colab": {}
      },
      "source": [
        "#Revenue dataframe\n",
        "df_3m['Revenue'] = df_3m['UnitPrice'] * df_3m['Quantity']\n",
        "df_revenue = df_3m.groupby('CustomerID').Revenue.sum().reset_index()\n",
        "df_user = pd.merge(df_user, df_revenue, on='CustomerID')"
      ],
      "execution_count": 0,
      "outputs": []
    },
    {
      "cell_type": "code",
      "metadata": {
        "id": "tX7MRcTnybYG",
        "colab_type": "code",
        "colab": {}
      },
      "source": [
        "#Revenue dataframe\n",
        "kmeans = KMeans(n_clusters=4)\n",
        "kmeans.fit(df_user[['Revenue']])\n",
        "df_user['RevenueCluster'] = kmeans.predict(df_user[['Revenue']])\n",
        "df_user = order_cluster('RevenueCluster', 'Revenue',df_user,True)\n",
        "#df_user"
      ],
      "execution_count": 0,
      "outputs": []
    },
    {
      "cell_type": "code",
      "metadata": {
        "id": "tDuDFNXMwIJu",
        "colab_type": "code",
        "colab": {}
      },
      "source": [
        "#overall scoring\n",
        "df_user['OverallScore'] = df_user['RecencyCluster'] + df_user['FrequencyCluster'] + df_user['RevenueCluster']\n",
        "df_user['Segment'] = 'Low-Value'\n",
        "df_user.loc[df_user['OverallScore']>2,'Segment'] = 'Mid-Value' \n",
        "df_user.loc[df_user['OverallScore']>4,'Segment'] = 'High-Value' \n",
        "#df_user"
      ],
      "execution_count": 0,
      "outputs": []
    },
    {
      "cell_type": "code",
      "metadata": {
        "id": "6NhuygiMzKgF",
        "colab_type": "code",
        "colab": {}
      },
      "source": [
        "#Revenue for 6 months\n",
        "df_6m['Revenue'] = df_6m['UnitPrice'] * df_6m['Quantity']\n",
        "df_user_6m = df_6m.groupby('CustomerID')['Revenue'].sum().reset_index()\n",
        "df_user_6m.columns = ['CustomerID','m6_Revenue']\n",
        "#df_user_6m"
      ],
      "execution_count": 0,
      "outputs": []
    },
    {
      "cell_type": "code",
      "metadata": {
        "id": "NmlSWZLXzivy",
        "colab_type": "code",
        "colab": {}
      },
      "source": [
        "df_merge = pd.merge(df_user, df_user_6m, on='CustomerID', how='left')\n",
        "df_merge = df_merge.fillna(0)\n",
        "\n",
        "df_graph = df_merge.query(\"m6_Revenue < 30000\")\n",
        "#df_graph"
      ],
      "execution_count": 0,
      "outputs": []
    },
    {
      "cell_type": "code",
      "metadata": {
        "id": "aTofT6tmzqrZ",
        "colab_type": "code",
        "colab": {}
      },
      "source": [
        "#remove outliers\n",
        "df_merge = df_merge[df_merge['m6_Revenue']<df_merge['m6_Revenue'].quantile(0.99)]\n",
        "\n",
        "\n",
        "#creating 3 clusters\n",
        "kmeans = KMeans(n_clusters=3)\n",
        "kmeans.fit(df_merge[['m6_Revenue']])\n",
        "df_merge['LTVCluster'] = kmeans.predict(df_merge[['m6_Revenue']])\n",
        "\n",
        "#order cluster number based on LTV\n",
        "df_merge = order_cluster('LTVCluster', 'm6_Revenue',df_merge,True)\n",
        "\n",
        "#creatinga new cluster dataframe\n",
        "df_cluster = df_merge.copy()\n",
        "df_cluster.head()\n",
        "#Low value segment form cluster 1,mid value cluster 2 and high value cluster 3\n",
        "\n",
        "#see details of the clusters\n",
        "df_cluster.groupby('LTVCluster')['m6_Revenue'].describe()\n"
      ],
      "execution_count": 0,
      "outputs": []
    },
    {
      "cell_type": "code",
      "metadata": {
        "id": "aCVwgY5az2XP",
        "colab_type": "code",
        "colab": {}
      },
      "source": [
        "#convert categorical columns to numerical\n",
        "df_class = pd.get_dummies(df_cluster)\n",
        "\n",
        "\n",
        "#calculate and show correlations\n",
        "corr_matrix = df_class.corr()\n",
        "corr_matrix['LTVCluster'].sort_values(ascending=False)\n",
        "\n",
        "# #create X and y, X will be feature set and y is the label - LTV\n",
        "x = df_class.drop(['LTVCluster','m6_Revenue'],axis=1)\n",
        "#X is passing all the feature values\n",
        "y = df_class['LTVCluster']\n",
        "#y has the LTV Cluster value\n",
        "#x = 1965 rows\n",
        "\n",
        "#split training and test sets with 80 training and 20 testing\n",
        "X_train, X_test, y_train, y_test = train_test_split(x, y, test_size=0.2, random_state=70)\n",
        "\n",
        "#x\n",
        "#y\n",
        "#X_train = Contains all the columns \n",
        "#X_test = Contains all the columns \n",
        "#y_train = LTV cluster column only\n",
        "#y_test = LTV Cluster Column only"
      ],
      "execution_count": 0,
      "outputs": []
    },
    {
      "cell_type": "code",
      "metadata": {
        "id": "-tm1Z4-Ez7zJ",
        "colab_type": "code",
        "outputId": "aebbf415-0eca-4fad-8b58-b0d905a3e78c",
        "colab": {
          "base_uri": "https://localhost:8080/",
          "height": 571
        }
      },
      "source": [
        "#XGBoost Multiclassification Model\n",
        "ltv_xgb_model = xgb.XGBClassifier(max_depth=4, learning_rate=0.2,objective= 'multi:softprob',n_jobs=-1).fit(X_train, y_train)\n",
        "#after max depth of 6 training accuracy is 1 constant and test varies little like 0.86 and 0.87\n",
        "\n",
        "print('Accuracy of XGB classifier on training set: {:.2f}'\n",
        "       .format(ltv_xgb_model.score(X_train, y_train)))\n",
        "print('Accuracy of XGB classifier on test set: {:.2f}'\n",
        "       .format(ltv_xgb_model.score(X_test[X_train.columns], y_test)))\n",
        "\n",
        "y_pred = ltv_xgb_model.predict(X_test)\n",
        "#print(classification_report(y_test, y_pred))\n",
        "y_test,y_pred"
      ],
      "execution_count": 43,
      "outputs": [
        {
          "output_type": "stream",
          "text": [
            "Accuracy of XGB classifier on training set: 0.98\n",
            "Accuracy of XGB classifier on test set: 0.86\n"
          ],
          "name": "stdout"
        },
        {
          "output_type": "execute_result",
          "data": {
            "text/plain": [
              "(932     0\n",
              " 1511    0\n",
              " 1286    0\n",
              " 280     0\n",
              " 1655    0\n",
              "        ..\n",
              " 1949    1\n",
              " 1544    0\n",
              " 830     0\n",
              " 1935    1\n",
              " 135     0\n",
              " Name: LTVCluster, Length: 402, dtype: int64,\n",
              " array([0, 0, 0, 0, 0, 0, 0, 0, 0, 0, 1, 0, 0, 1, 0, 0, 1, 0, 0, 0, 0, 0,\n",
              "        0, 0, 0, 0, 0, 0, 0, 0, 0, 0, 0, 0, 0, 0, 0, 0, 0, 0, 0, 0, 0, 0,\n",
              "        0, 0, 0, 0, 0, 0, 0, 0, 1, 0, 0, 0, 0, 0, 0, 1, 0, 0, 1, 0, 0, 0,\n",
              "        0, 0, 1, 0, 0, 0, 0, 0, 0, 0, 0, 0, 0, 0, 0, 0, 0, 0, 1, 0, 0, 0,\n",
              "        0, 0, 0, 0, 0, 0, 0, 0, 1, 0, 0, 0, 0, 0, 0, 0, 0, 0, 0, 0, 0, 0,\n",
              "        0, 0, 0, 0, 0, 1, 1, 0, 0, 1, 0, 1, 0, 0, 0, 0, 2, 0, 0, 0, 0, 0,\n",
              "        0, 0, 0, 1, 0, 0, 0, 0, 0, 0, 0, 0, 0, 0, 0, 0, 0, 0, 0, 0, 0, 0,\n",
              "        0, 0, 2, 0, 0, 0, 0, 0, 0, 1, 0, 0, 0, 0, 0, 0, 1, 0, 0, 0, 0, 1,\n",
              "        0, 0, 1, 0, 0, 0, 0, 1, 0, 0, 0, 0, 0, 0, 0, 0, 0, 1, 0, 0, 1, 0,\n",
              "        0, 0, 0, 0, 0, 0, 2, 0, 0, 0, 0, 0, 0, 0, 0, 0, 0, 0, 0, 0, 0, 0,\n",
              "        0, 0, 0, 0, 0, 0, 1, 1, 1, 0, 0, 0, 0, 0, 0, 0, 0, 1, 0, 0, 0, 0,\n",
              "        0, 0, 0, 0, 0, 0, 0, 0, 0, 0, 0, 0, 0, 0, 1, 0, 0, 0, 0, 0, 0, 0,\n",
              "        0, 0, 0, 1, 0, 1, 0, 0, 0, 0, 0, 1, 0, 0, 0, 0, 0, 0, 0, 0, 1, 0,\n",
              "        0, 0, 0, 0, 0, 0, 0, 1, 0, 0, 0, 0, 0, 0, 0, 0, 1, 0, 0, 0, 0, 0,\n",
              "        0, 0, 1, 0, 0, 0, 0, 0, 0, 0, 2, 0, 0, 0, 0, 0, 0, 0, 0, 0, 0, 0,\n",
              "        0, 0, 0, 0, 0, 0, 0, 0, 0, 0, 0, 0, 1, 0, 0, 0, 0, 0, 0, 0, 0, 0,\n",
              "        0, 0, 0, 0, 0, 0, 0, 0, 0, 2, 0, 0, 0, 0, 0, 0, 0, 0, 0, 0, 0, 0,\n",
              "        0, 0, 0, 0, 0, 0, 0, 0, 0, 0, 1, 0, 0, 0, 0, 0, 1, 0, 0, 0, 0, 1,\n",
              "        0, 1, 0, 0, 1, 0]))"
            ]
          },
          "metadata": {
            "tags": []
          },
          "execution_count": 43
        }
      ]
    },
    {
      "cell_type": "code",
      "metadata": {
        "id": "_R2s8MVYYl0G",
        "colab_type": "code",
        "outputId": "8a698bbe-7ac3-4222-a3fc-fb1bdbf450fc",
        "colab": {
          "base_uri": "https://localhost:8080/",
          "height": 218
        }
      },
      "source": [
        "X_test['y_test'] = y_test\n",
        "X_test['y_pred'] = y_pred\n",
        "X_test.to_csv('CLV.csv')"
      ],
      "execution_count": 44,
      "outputs": [
        {
          "output_type": "stream",
          "text": [
            "/usr/local/lib/python3.6/dist-packages/ipykernel_launcher.py:1: SettingWithCopyWarning: \n",
            "A value is trying to be set on a copy of a slice from a DataFrame.\n",
            "Try using .loc[row_indexer,col_indexer] = value instead\n",
            "\n",
            "See the caveats in the documentation: https://pandas.pydata.org/pandas-docs/stable/user_guide/indexing.html#returning-a-view-versus-a-copy\n",
            "  \"\"\"Entry point for launching an IPython kernel.\n",
            "/usr/local/lib/python3.6/dist-packages/ipykernel_launcher.py:2: SettingWithCopyWarning: \n",
            "A value is trying to be set on a copy of a slice from a DataFrame.\n",
            "Try using .loc[row_indexer,col_indexer] = value instead\n",
            "\n",
            "See the caveats in the documentation: https://pandas.pydata.org/pandas-docs/stable/user_guide/indexing.html#returning-a-view-versus-a-copy\n",
            "  \n"
          ],
          "name": "stderr"
        }
      ]
    },
    {
      "cell_type": "code",
      "metadata": {
        "id": "bSh2jCaWZTmE",
        "colab_type": "code",
        "colab": {}
      },
      "source": [
        "clv = pd.read_csv(\"CLV.csv\")"
      ],
      "execution_count": 0,
      "outputs": []
    },
    {
      "cell_type": "code",
      "metadata": {
        "id": "9q-jhHuDZb1N",
        "colab_type": "code",
        "colab": {}
      },
      "source": [
        "# Add column 'customer_lifetime_value' \n",
        "conditions = [\n",
        "              clv['y_pred'] == 0,\n",
        "              clv['y_pred'] == 1,\n",
        "              clv['y_pred'] == 2\n",
        "]\n",
        "\n",
        "choices = ['LowCLV','MedCLV','HighCLV']\n",
        "\n",
        "clv['Customer_Lifetime_value'] = np.select(conditions, choices)"
      ],
      "execution_count": 0,
      "outputs": []
    },
    {
      "cell_type": "code",
      "metadata": {
        "id": "d9K8tppQZcrK",
        "colab_type": "code",
        "colab": {}
      },
      "source": [
        "clv.to_csv('CLV.csv')"
      ],
      "execution_count": 0,
      "outputs": []
    }
  ]
}
