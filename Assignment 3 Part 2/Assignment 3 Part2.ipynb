{
 "cells": [
  {
   "cell_type": "code",
   "execution_count": 1,
   "metadata": {},
   "outputs": [
    {
     "name": "stderr",
     "output_type": "stream",
     "text": [
      "Using TensorFlow backend.\n"
     ]
    }
   ],
   "source": [
    "import pandas as pd\n",
    "import matplotlib.pyplot as plt \n",
    "import numpy as np\n",
    "\n",
    "from sklearn.utils import resample\n",
    "from sklearn.preprocessing import MinMaxScaler\n",
    "from sklearn.model_selection import train_test_split\n",
    "\n",
    "import keras\n",
    "\n",
    "#%matplotlib widget\n",
    "#import ipywidgets as widgets\n",
    "#import ipympl\n",
    "\n",
    "\n",
    "plt.style.use('ggplot')"
   ]
  },
  {
   "cell_type": "code",
   "execution_count": 2,
   "metadata": {},
   "outputs": [],
   "source": [
    "def add_derived_columns(df):                               # step 1: add JID and standartize timestamps \n",
    "    df_ext = df.copy()\n",
    "    df_ext['jid'] = df_ext['uid'].map(str) + '_' + df_ext['conversion_id'].map(str)\n",
    "    \n",
    "    min_max_scaler = MinMaxScaler() # to standardize the timestamp\n",
    "    for cname in ('timestamp'):\n",
    "        x = df_ext[cname].values.reshape(-1, 1) \n",
    "        df_ext[cname + '_norm'] = min_max_scaler.fit_transform(x)\n",
    "    \n",
    "    return df_ext"
   ]
  },
  {
   "cell_type": "code",
   "execution_count": 3,
   "metadata": {},
   "outputs": [],
   "source": [
    "def sample_campaigns(df, n_campaigns):                     # step 2.1: reduce the dataset by sampling campaigns\n",
    "    campaigns = np.random.choice( df['campaign'].unique(), n_campaigns, replace = False ) # randomly samples the data\n",
    "    return df[ df['campaign'].isin(campaigns) ]"
   ]
  },
  {
   "cell_type": "code",
   "execution_count": 4,
   "metadata": {},
   "outputs": [],
   "source": [
    "def filter_journeys_by_length(df, min_touchpoints):        # step 2.2: remove short (trivial) journeys\n",
    "    grouped = df.groupby(['jid'])['uid'].count().reset_index(name=\"count\")\n",
    "    return df[df['jid'].isin( grouped[grouped['count'] >= min_touchpoints]['jid'].values )]"
   ]
  },
  {
   "cell_type": "code",
   "execution_count": 5,
   "metadata": {},
   "outputs": [],
   "source": [
    "df2 = pd.read_csv(\"/Users/rohittikle/Downloads/A3P2/df2.csv\")\n",
    "#df2.head()"
   ]
  },
  {
   "cell_type": "code",
   "execution_count": 6,
   "metadata": {},
   "outputs": [],
   "source": [
    "df3 = filter_journeys_by_length(df2, 1) # as count of jid is min when we put 2 it doesn't show any results after grouping\n",
    "#df3.head(20)"
   ]
  },
  {
   "cell_type": "code",
   "execution_count": 7,
   "metadata": {},
   "outputs": [],
   "source": [
    "def balance_conversions(df):                               # step 3: balance the dataset: \n",
    "    df_minority = df[df.conversion == 1]                   # The number of converted and non-converted events should be equal.\n",
    "    df_majority = df[df.conversion == 0]                   # We take all converted journeys and iteratively add non-converted \n",
    "                                                           # samples until the datset is balanced. We do it this way becasue  \n",
    "    df_majority_jids = np.array_split(                     # we are trying to balance the number of events, but can add only\n",
    "          df_majority['jid'].unique(),                     # the whole journeys.\n",
    "          100 * df_majority.shape[0]/df_minority.shape[0] )\n",
    "    \n",
    "    df_majority_sampled = pd.DataFrame(data=None, columns=df.columns)\n",
    "    for jid_chunk in df_majority_jids:\n",
    "        df_majority_sampled = pd.concat([\n",
    "            df_majority_sampled, \n",
    "            df_majority[df_majority.jid.isin(jid_chunk)]\n",
    "        ])\n",
    "        if df_majority_sampled.shape[0] > df_minority.shape[0]:\n",
    "            break\n",
    "    \n",
    "    return pd.concat([df_majority_sampled, df_minority]).sample(frac=1).reset_index(drop=True)"
   ]
  },
  {
   "cell_type": "code",
   "execution_count": 8,
   "metadata": {},
   "outputs": [],
   "source": [
    "df4 = balance_conversions(df3) # the generated output has 13 rows with 6 converted and 7  non converted\n",
    "#df4.head(20) "
   ]
  },
  {
   "cell_type": "code",
   "execution_count": 9,
   "metadata": {},
   "outputs": [],
   "source": [
    "def map_one_hot(df, column_names, result_column_name):      # step 4: one-hot encoding for categorical variables\n",
    "    mapper = {}                                             # We use custom mapping becasue IDs in the orginal dataset\n",
    "    for i, col_name in enumerate(column_names):             # are not sequential, and standard one-not encoding \n",
    "        for val in df[col_name].unique():                   # provided by Keras does not handle this properly.\n",
    "            mapper[val*10 + i] = len(mapper)\n",
    "    \n",
    "    def one_hot(values):\n",
    "        v = np.zeros( len(mapper) )\n",
    "        for i, val in enumerate(values): \n",
    "            mapped_val_id = mapper[val*10 + i]\n",
    "            v[mapped_val_id] = 1\n",
    "        return v    \n",
    "    \n",
    "    df_ext = df.copy()\n",
    "    df_ext[result_column_name] = df_ext[column_names].values.tolist()\n",
    "    df_ext[result_column_name] = df_ext[result_column_name].map(one_hot)\n",
    "    \n",
    "    return df_ext"
   ]
  },
  {
   "cell_type": "code",
   "execution_count": 10,
   "metadata": {},
   "outputs": [],
   "source": [
    "# all categories are mapped to one vector  \n",
    "df5 = map_one_hot(df4, ['cat1', 'cat2', 'cat3', 'cat4', 'cat5', 'cat6', 'cat8'], 'cats') #added vector cats "
   ]
  },
  {
   "cell_type": "code",
   "execution_count": 11,
   "metadata": {},
   "outputs": [],
   "source": [
    "# the final dataframe used for modeling  \n",
    "df6 = map_one_hot(df5, ['campaign'], 'campaigns').sort_values(by=['timestamp_norm']) "
   ]
  },
  {
   "cell_type": "code",
   "execution_count": 12,
   "metadata": {},
   "outputs": [
    {
     "name": "stdout",
     "output_type": "stream",
     "text": [
      "         jid\n",
      "count       \n",
      "1      16448\n",
      "2       4757\n",
      "3       2161\n",
      "4       1273\n",
      "5        800\n",
      "6        515\n",
      "7        391\n",
      "8        307\n",
      "9        229\n",
      "10       157\n",
      "11       150\n",
      "12       102\n",
      "13        94\n",
      "14        64\n",
      "15        54\n",
      "16        57\n",
      "17        37\n",
      "18        25\n",
      "19        34\n",
      "20        23\n",
      "21        25\n",
      "22        12\n",
      "23        10\n",
      "24        10\n",
      "25        14\n",
      "26        10\n",
      "27        11\n",
      "28         9\n",
      "29        10\n",
      "30         4\n",
      "31         1\n",
      "32         4\n",
      "33         4\n",
      "34         1\n",
      "35         1\n",
      "36         1\n",
      "37         3\n",
      "38         2\n",
      "40         3\n",
      "41         2\n",
      "42         2\n",
      "45         3\n",
      "49         2\n",
      "50         1\n",
      "56         1\n",
      "59         1\n",
      "60         1\n",
      "62         1\n",
      "74         1\n",
      "96         1\n",
      "Int64Index([ 1,  2,  3,  4,  5,  6,  7,  8,  9, 10, 11, 12, 13, 14, 15, 16, 17,\n",
      "            18, 19, 20, 21, 22, 23, 24, 25, 26, 27, 28, 29, 30, 31, 32, 33, 34,\n",
      "            35, 36, 37, 38, 40, 41, 42, 45, 49, 50, 56, 59, 60, 62, 74, 96],\n",
      "           dtype='int64', name='count')\n",
      "[[16448]\n",
      " [ 4757]\n",
      " [ 2161]\n",
      " [ 1273]\n",
      " [  800]\n",
      " [  515]\n",
      " [  391]\n",
      " [  307]\n",
      " [  229]\n",
      " [  157]\n",
      " [  150]\n",
      " [  102]\n",
      " [   94]\n",
      " [   64]\n",
      " [   54]\n",
      " [   57]\n",
      " [   37]\n",
      " [   25]\n",
      " [   34]\n",
      " [   23]\n",
      " [   25]\n",
      " [   12]\n",
      " [   10]\n",
      " [   10]\n",
      " [   14]\n",
      " [   10]\n",
      " [   11]\n",
      " [    9]\n",
      " [   10]\n",
      " [    4]\n",
      " [    1]\n",
      " [    4]\n",
      " [    4]\n",
      " [    1]\n",
      " [    1]\n",
      " [    1]\n",
      " [    3]\n",
      " [    2]\n",
      " [    3]\n",
      " [    2]\n",
      " [    2]\n",
      " [    3]\n",
      " [    2]\n",
      " [    1]\n",
      " [    1]\n",
      " [    1]\n",
      " [    1]\n",
      " [    1]\n",
      " [    1]\n",
      " [    1]]\n"
     ]
    },
    {
     "data": {
      "image/png": "[encoded data removed]",
      "text/plain": [
       "<Figure size 432x288 with 1 Axes>"
      ]
     },
     "metadata": {
      "needs_background": "light"
     },
     "output_type": "display_data"
    }
   ],
   "source": [
    "# Data exploration\n",
    "\n",
    "def journey_length_histogram(df):\n",
    "    counts = df.groupby(['jid'])['uid'].count().reset_index(name=\"count\").groupby(['count']).count() #grouping all the counts of jid \n",
    "    print(counts)\n",
    "    print(counts.index)\n",
    "    print(counts.values)\n",
    "    return counts.index, counts.values / df.shape[0] #df.shape() Returns tuple of shape (Rows, columns) of dataframe/series\n",
    "\n",
    "hist_x, hist_y = journey_length_histogram(df4)\n",
    "\n",
    "plt.plot(range(len(hist_x)), hist_y, label='all journeys')\n",
    "plt.yscale('log')\n",
    "plt.xlim(10,140 )\n",
    "plt.xlabel('Journey length (number of touchpoints)')\n",
    "plt.ylabel('Fraction of journeys')\n",
    "plt.show()\n",
    "\n",
    "\n",
    "#This returns the number of times one journey has occured\n",
    "\n",
    "#The dataset contains journeys with up to 40 events(number of touchpoints) or more, but the number of journeys falls exponentially with the length:\n",
    "#The number of journeys with several events is considerable; thus, it makes sense to try methods for sequential data.\n",
    "# this means there is one user id who has impressions of 40 and the"
   ]
  },
  {
   "cell_type": "code",
   "execution_count": 13,
   "metadata": {},
   "outputs": [
    {
     "name": "stdout",
     "output_type": "stream",
     "text": [
      "                     jid  count\n",
      "0            10000139_-1      1\n",
      "1      10000523_19113736      4\n",
      "2      10000523_22688888      1\n",
      "3       10000523_2559380      3\n",
      "4             1000054_-1      1\n",
      "...                  ...    ...\n",
      "27824    9992596_2653687      1\n",
      "27825   9992944_26284453      1\n",
      "27826         9993250_-1      1\n",
      "27827         9997400_-1      1\n",
      "27828    9998038_1380314      1\n",
      "\n",
      "[27829 rows x 2 columns]\n"
     ]
    }
   ],
   "source": [
    "counts = df6.groupby(['jid'])['campaign'].count().reset_index(name=\"count\")\n",
    "print(counts)"
   ]
  },
  {
   "cell_type": "code",
   "execution_count": 14,
   "metadata": {},
   "outputs": [
    {
     "data": {
      "text/html": [
       "<div>\n",
       "<style scoped>\n",
       "    .dataframe tbody tr th:only-of-type {\n",
       "        vertical-align: middle;\n",
       "    }\n",
       "\n",
       "    .dataframe tbody tr th {\n",
       "        vertical-align: top;\n",
       "    }\n",
       "\n",
       "    .dataframe thead th {\n",
       "        text-align: right;\n",
       "    }\n",
       "</style>\n",
       "<table border=\"1\" class=\"dataframe\">\n",
       "  <thead>\n",
       "    <tr style=\"text-align: right;\">\n",
       "      <th></th>\n",
       "      <th>jid</th>\n",
       "      <th>count</th>\n",
       "    </tr>\n",
       "  </thead>\n",
       "  <tbody>\n",
       "    <tr>\n",
       "      <td>0</td>\n",
       "      <td>10000139_-1</td>\n",
       "      <td>1</td>\n",
       "    </tr>\n",
       "    <tr>\n",
       "      <td>1</td>\n",
       "      <td>10000523_19113736</td>\n",
       "      <td>4</td>\n",
       "    </tr>\n",
       "    <tr>\n",
       "      <td>2</td>\n",
       "      <td>10000523_22688888</td>\n",
       "      <td>1</td>\n",
       "    </tr>\n",
       "    <tr>\n",
       "      <td>3</td>\n",
       "      <td>10000523_2559380</td>\n",
       "      <td>3</td>\n",
       "    </tr>\n",
       "    <tr>\n",
       "      <td>4</td>\n",
       "      <td>1000054_-1</td>\n",
       "      <td>1</td>\n",
       "    </tr>\n",
       "    <tr>\n",
       "      <td>...</td>\n",
       "      <td>...</td>\n",
       "      <td>...</td>\n",
       "    </tr>\n",
       "    <tr>\n",
       "      <td>27824</td>\n",
       "      <td>9992596_2653687</td>\n",
       "      <td>1</td>\n",
       "    </tr>\n",
       "    <tr>\n",
       "      <td>27825</td>\n",
       "      <td>9992944_26284453</td>\n",
       "      <td>1</td>\n",
       "    </tr>\n",
       "    <tr>\n",
       "      <td>27826</td>\n",
       "      <td>9993250_-1</td>\n",
       "      <td>1</td>\n",
       "    </tr>\n",
       "    <tr>\n",
       "      <td>27827</td>\n",
       "      <td>9997400_-1</td>\n",
       "      <td>1</td>\n",
       "    </tr>\n",
       "    <tr>\n",
       "      <td>27828</td>\n",
       "      <td>9998038_1380314</td>\n",
       "      <td>1</td>\n",
       "    </tr>\n",
       "  </tbody>\n",
       "</table>\n",
       "<p>27829 rows × 2 columns</p>\n",
       "</div>"
      ],
      "text/plain": [
       "                     jid  count\n",
       "0            10000139_-1      1\n",
       "1      10000523_19113736      4\n",
       "2      10000523_22688888      1\n",
       "3       10000523_2559380      3\n",
       "4             1000054_-1      1\n",
       "...                  ...    ...\n",
       "27824    9992596_2653687      1\n",
       "27825   9992944_26284453      1\n",
       "27826         9993250_-1      1\n",
       "27827         9997400_-1      1\n",
       "27828    9998038_1380314      1\n",
       "\n",
       "[27829 rows x 2 columns]"
      ]
     },
     "execution_count": 14,
     "metadata": {},
     "output_type": "execute_result"
    }
   ],
   "source": [
    "counts = df4.groupby(['jid'])['uid'].count().reset_index(name=\"count\")\n",
    "counts"
   ]
  },
  {
   "cell_type": "markdown",
   "metadata": {},
   "source": [
    "# Last Touch Attribution"
   ]
  },
  {
   "cell_type": "code",
   "execution_count": 15,
   "metadata": {},
   "outputs": [
    {
     "name": "stdout",
     "output_type": "stream",
     "text": [
      "campaign_impressions\n",
      "[21835.  2367.  9744. 11873.  6651.  1531.   183.   735.  1808.  2132.\n",
      "  1325.  2425.   700.   828.   308.   546.  1196.   276.   206.    68.]\n",
      "campaign_conversions with last time stamp for that Jid\n",
      "[5008.  270. 4444. 3087. 1385.  502.   55.   60.  943.   99.   98. 1315.\n",
      "   97.  136.   52.  354.  694.   36.   53.   25.]\n",
      "campaign_conversions / campaign_impressions\n",
      "[0.22935654 0.11406844 0.45607553 0.26000168 0.20823936 0.32789027\n",
      " 0.30054645 0.08163265 0.5215708  0.04643527 0.07396226 0.54226804\n",
      " 0.13857143 0.16425121 0.16883117 0.64835165 0.58026756 0.13043478\n",
      " 0.25728155 0.36764706]\n"
     ]
    }
   ],
   "source": [
    "n_campaigns = 20\n",
    "def last_touch_attribution(df):\n",
    "    \n",
    "    def count_by_campaign(df):\n",
    "        counters = np.zeros(n_campaigns)\n",
    "        for campaign_one_hot in df['campaigns'].values:\n",
    "            campaign_id = np.argmax(campaign_one_hot) # maximum argument in given array\n",
    "            #print(campaign_id)\n",
    "            counters[campaign_id] = counters[campaign_id] + 1 \n",
    "            #print(counters)\n",
    "        return counters\n",
    "        \n",
    "    campaign_impressions = count_by_campaign(df)\n",
    "    print('campaign_impressions')\n",
    "    print(campaign_impressions) #gives count of total campaigns\n",
    "    \n",
    "    df_converted = df[df['conversion'] == 1]\n",
    "    idx = df_converted.groupby(['jid'])['timestamp_norm'].transform(max) == df_converted['timestamp_norm']\n",
    "    #print(df_converted[idx]) #forms a dataframe of all the campaigns that are converted and have maximum timestamp\n",
    "    campaign_conversions = count_by_campaign(df_converted[idx])\n",
    "    print('campaign_conversions with last time stamp for that Jid')\n",
    "    print(campaign_conversions) #gives count of campaigns that are at max timestamp and are converted\n",
    "    print('campaign_conversions / campaign_impressions')    \n",
    "    print(campaign_conversions / campaign_impressions)    \n",
    "    return campaign_conversions / campaign_impressions\n",
    "    \n",
    "lta = last_touch_attribution(df6)"
   ]
  },
  {
   "cell_type": "code",
   "execution_count": 16,
   "metadata": {},
   "outputs": [
    {
     "data": {
      "image/png": "[encoded data removed]",
      "text/plain": [
       "<Figure size 720x288 with 1 Axes>"
      ]
     },
     "metadata": {
      "needs_background": "light"
     },
     "output_type": "display_data"
    }
   ],
   "source": [
    "# Visualization of the attribution scores\n",
    "\n",
    "campaign_idx = range(0, 20)\n",
    "\n",
    "fig = plt.figure(figsize=(10,4))\n",
    "ax = fig.add_subplot(111)\n",
    "plt.bar( range(len(lta[campaign_idx])), lta[campaign_idx], label='LTA' )\n",
    "plt.xlabel('Campaign ID')\n",
    "plt.ylabel('Return per impression')\n",
    "plt.legend(loc='upper left')\n",
    "plt.show()"
   ]
  },
  {
   "cell_type": "code",
   "execution_count": 17,
   "metadata": {},
   "outputs": [],
   "source": [
    "fig.canvas.toolbar_visible = True\n",
    "fig.canvas.header_visible = True\n",
    "fig.canvas.footer_visible = True"
   ]
  },
  {
   "cell_type": "markdown",
   "metadata": {},
   "source": [
    "# First Touch Attribution"
   ]
  },
  {
   "cell_type": "code",
   "execution_count": 18,
   "metadata": {},
   "outputs": [
    {
     "name": "stdout",
     "output_type": "stream",
     "text": [
      "campaign_impressions\n",
      "[21835.  2367.  9744. 11873.  6651.  1531.   183.   735.  1808.  2132.\n",
      "  1325.  2425.   700.   828.   308.   546.  1196.   276.   206.    68.]\n",
      "campaign_conversions with last time stamp for that Jid\n",
      "[5008.  270. 4444. 3087. 1385.  502.   55.   60.  943.   99.   98. 1315.\n",
      "   97.  136.   52.  354.  694.   36.   53.   25.]\n",
      "campaign_conversions / campaign_impressions\n",
      "[0.22935654 0.11406844 0.45607553 0.26000168 0.20823936 0.32789027\n",
      " 0.30054645 0.08163265 0.5215708  0.04643527 0.07396226 0.54226804\n",
      " 0.13857143 0.16425121 0.16883117 0.64835165 0.58026756 0.13043478\n",
      " 0.25728155 0.36764706]\n"
     ]
    }
   ],
   "source": [
    "n_campaigns = 20\n",
    "def first_touch_attribution(df):\n",
    "    \n",
    "    def count_by_campaign(df):\n",
    "        counters = np.zeros(n_campaigns)\n",
    "        for campaign_one_hot in df['campaigns'].values:\n",
    "            campaign_id = np.argmax(campaign_one_hot) # maximum argument in given array\n",
    "            #print(campaign_id)\n",
    "            counters[campaign_id] = counters[campaign_id] + 1 \n",
    "            #print(counters)\n",
    "        return counters\n",
    "        \n",
    "    campaign_impressions = count_by_campaign(df)\n",
    "    print('campaign_impressions')\n",
    "    print(campaign_impressions) #gives count of total campaigns\n",
    "    \n",
    "    df_converted = df[df['conversion'] == 1]\n",
    "    idx = df_converted.groupby(['jid'])['timestamp_norm'].transform(min) == df_converted['timestamp_norm']\n",
    "    #print(df_converted[idx]) #forms a dataframe of all the campaigns that are converted and have maximum timestamp\n",
    "    campaign_conversions = count_by_campaign(df_converted[idx])\n",
    "    print('campaign_conversions with last time stamp for that Jid')\n",
    "    print(campaign_conversions) #gives count of campaigns that are at max timestamp and are converted\n",
    "    print('campaign_conversions / campaign_impressions')    \n",
    "    print(campaign_conversions / campaign_impressions)    \n",
    "    return campaign_conversions / campaign_impressions\n",
    "    \n",
    "fta = first_touch_attribution(df6)"
   ]
  },
  {
   "cell_type": "code",
   "execution_count": 19,
   "metadata": {},
   "outputs": [
    {
     "data": {
      "image/png": "[encoded data removed]",
      "text/plain": [
       "<Figure size 720x288 with 1 Axes>"
      ]
     },
     "metadata": {
      "needs_background": "light"
     },
     "output_type": "display_data"
    }
   ],
   "source": [
    "# Visualization of the attribution scores\n",
    "\n",
    "campaign_idx = range(0, 20)\n",
    "\n",
    "fig = plt.figure(figsize=(10,4))\n",
    "ax = fig.add_subplot(111)\n",
    "plt.bar( range(len(fta[campaign_idx])), fta[campaign_idx], label='FTA' )\n",
    "plt.xlabel('Campaign ID')\n",
    "plt.ylabel('Return per impression')\n",
    "plt.legend(loc='upper left')\n",
    "plt.show()"
   ]
  },
  {
   "cell_type": "markdown",
   "metadata": {},
   "source": [
    "# Logistic Regression"
   ]
  },
  {
   "cell_type": "code",
   "execution_count": 20,
   "metadata": {},
   "outputs": [],
   "source": [
    "# Logistic regression\n",
    "def features_for_logistic_regression(df):\n",
    "\n",
    "    def pairwise_max(series):\n",
    "        return np.max(series.tolist(), axis = 0).tolist()\n",
    "    \n",
    "    aggregation = {\n",
    "        'campaigns': pairwise_max,\n",
    "        'cats': pairwise_max,\n",
    "        'click': 'sum',\n",
    "        'cost': 'sum',\n",
    "        'conversion': 'max'\n",
    "    }\n",
    "    \n",
    "    df_agg = df.groupby(['jid']).agg(aggregation)\n",
    "    \n",
    "    df_agg['features'] = df_agg[['campaigns', 'cats', 'click', 'cost']].values.tolist()\n",
    "    \n",
    "    return (\n",
    "        np.stack(df_agg['features'].map(lambda x: np.hstack(x)).values),\n",
    "        df_agg['conversion'].values\n",
    "    )"
   ]
  },
  {
   "cell_type": "code",
   "execution_count": 21,
   "metadata": {},
   "outputs": [
    {
     "name": "stdout",
     "output_type": "stream",
     "text": [
      "(27829, 177)\n"
     ]
    }
   ],
   "source": [
    "x, y = features_for_logistic_regression(df6)\n",
    "print(np.shape(x))"
   ]
  },
  {
   "cell_type": "code",
   "execution_count": 22,
   "metadata": {},
   "outputs": [],
   "source": [
    "from sklearn.model_selection import train_test_split\n",
    "\n",
    "x_train, x_test, y_train, y_test = train_test_split(x, y, test_size = 0.20, random_state = 1)\n",
    "x_train, x_val, y_train, y_val = train_test_split(x_train, y_train, test_size = 0.20, random_state = 1)"
   ]
  },
  {
   "cell_type": "code",
   "execution_count": 23,
   "metadata": {},
   "outputs": [
    {
     "name": "stdout",
     "output_type": "stream",
     "text": [
      "0.8212360761767876\n"
     ]
    },
    {
     "name": "stderr",
     "output_type": "stream",
     "text": [
      "/Users/rohittikle/opt/anaconda3/lib/python3.7/site-packages/sklearn/linear_model/logistic.py:432: FutureWarning: Default solver will be changed to 'lbfgs' in 0.22. Specify a solver to silence this warning.\n",
      "  FutureWarning)\n"
     ]
    }
   ],
   "source": [
    "# Quick sanity check\n",
    "from sklearn.linear_model import LogisticRegression\n",
    "\n",
    "logisticRegr = LogisticRegression()\n",
    "logisticRegr.fit(x_train, y_train)\n",
    "score = logisticRegr.score(x_test, y_test)\n",
    "print(score)"
   ]
  },
  {
   "cell_type": "code",
   "execution_count": 24,
   "metadata": {},
   "outputs": [
    {
     "name": "stdout",
     "output_type": "stream",
     "text": [
      "Train on 17810 samples, validate on 4453 samples\n",
      "Epoch 1/10\n",
      "17810/17810 [==============================] - 0s 15us/step - loss: 0.6384 - accuracy: 0.6518 - val_loss: 0.5798 - val_accuracy: 0.7328\n",
      "Epoch 2/10\n",
      "17810/17810 [==============================] - 0s 9us/step - loss: 0.5502 - accuracy: 0.7509 - val_loss: 0.5300 - val_accuracy: 0.7523\n",
      "Epoch 3/10\n",
      "17810/17810 [==============================] - 0s 9us/step - loss: 0.5129 - accuracy: 0.7704 - val_loss: 0.5043 - val_accuracy: 0.7629\n",
      "Epoch 4/10\n",
      "17810/17810 [==============================] - 0s 9us/step - loss: 0.4931 - accuracy: 0.7771 - val_loss: 0.4893 - val_accuracy: 0.7676\n",
      "Epoch 5/10\n",
      "17810/17810 [==============================] - 0s 10us/step - loss: 0.4809 - accuracy: 0.7801 - val_loss: 0.4795 - val_accuracy: 0.7725\n",
      "Epoch 6/10\n",
      "17810/17810 [==============================] - 0s 11us/step - loss: 0.4726 - accuracy: 0.7824 - val_loss: 0.4719 - val_accuracy: 0.7730\n",
      "Epoch 7/10\n",
      "17810/17810 [==============================] - 0s 9us/step - loss: 0.4661 - accuracy: 0.7860 - val_loss: 0.4658 - val_accuracy: 0.7750\n",
      "Epoch 8/10\n",
      "17810/17810 [==============================] - 0s 12us/step - loss: 0.4608 - accuracy: 0.7885 - val_loss: 0.4608 - val_accuracy: 0.7781\n",
      "Epoch 9/10\n",
      "17810/17810 [==============================] - 0s 10us/step - loss: 0.4566 - accuracy: 0.7923 - val_loss: 0.4565 - val_accuracy: 0.7813\n",
      "Epoch 10/10\n",
      "17810/17810 [==============================] - 0s 9us/step - loss: 0.4529 - accuracy: 0.7943 - val_loss: 0.4529 - val_accuracy: 0.7822\n",
      "Test score: 0.45176432475827816\n",
      "Test accuracy: 0.7885375618934631\n"
     ]
    }
   ],
   "source": [
    "from keras.models import Sequential \n",
    "from keras.layers import Dense, Dropout\n",
    "from keras.constraints import NonNeg\n",
    "\n",
    "m = np.shape(x)[1]\n",
    "    \n",
    "model = Sequential()  \n",
    "model.add(Dense(1, input_dim=m, activation='sigmoid', name = 'contributions')) \n",
    "\n",
    "model.compile(optimizer='rmsprop', loss='binary_crossentropy', metrics=['accuracy']) \n",
    "history = model.fit(x_train, y_train, batch_size=128, epochs=10, verbose=1, validation_data=(x_val, y_val)) \n",
    "score = model.evaluate(x_test, y_test, verbose=0) \n",
    "print('Test score:', score[0]) \n",
    "print('Test accuracy:', score[1])"
   ]
  },
  {
   "cell_type": "code",
   "execution_count": 25,
   "metadata": {},
   "outputs": [
    {
     "data": {
      "image/png": "[encoded data removed]",
      "text/plain": [
       "<Figure size 1080x288 with 1 Axes>"
      ]
     },
     "metadata": {
      "needs_background": "light"
     },
     "output_type": "display_data"
    }
   ],
   "source": [
    "# Visualization of the attribution scores\n",
    "from sklearn.utils.extmath import softmax\n",
    "\n",
    "keras_logreg = model.get_layer('contributions').get_weights()[0].flatten()[0:n_campaigns]\n",
    "keras_logreg = softmax([keras_logreg]).flatten()\n",
    "\n",
    "fig = plt.figure(figsize=(15,4))\n",
    "ax = fig.add_subplot(111)\n",
    "plt.bar(range(len(keras_logreg[campaign_idx])), keras_logreg[campaign_idx] )\n",
    "plt.xlabel('Campaign ID')\n",
    "plt.ylabel('Return per impression')\n",
    "plt.show()"
   ]
  },
  {
   "cell_type": "markdown",
   "metadata": {},
   "source": [
    "# Linear Regression"
   ]
  },
  {
   "cell_type": "code",
   "execution_count": 26,
   "metadata": {},
   "outputs": [
    {
     "name": "stdout",
     "output_type": "stream",
     "text": [
      "campaign_impressions\n",
      "[21835.  2367.  9744. 11873.  6651.  1531.   183.   735.  1808.  2132.\n",
      "  1325.  2425.   700.   828.   308.   546.  1196.   276.   206.    68.]\n",
      "campaign_conversions\n",
      "[10575.   413.  7176.  6006.  2175.  1017.    76.    80.  1519.   213.\n",
      "   275.  1835.   247.   286.    82.   426.   814.    50.    63.    37.]\n",
      "campaign_conversions / campaign_impressions\n",
      "[0.48431417 0.17448247 0.7364532  0.50585362 0.32701849 0.66427172\n",
      " 0.41530055 0.10884354 0.84015487 0.09990619 0.20754717 0.75670103\n",
      " 0.35285714 0.34541063 0.26623377 0.78021978 0.68060201 0.18115942\n",
      " 0.30582524 0.54411765]\n"
     ]
    }
   ],
   "source": [
    "n_campaigns = 20\n",
    "def linear(df):\n",
    "    \n",
    "    def count_by_campaign(df):\n",
    "        counters = np.zeros(n_campaigns)\n",
    "        for campaign_one_hot in df['campaigns'].values:\n",
    "            campaign_id = np.argmax(campaign_one_hot) # maximum argument in given array\n",
    "            #print(campaign_id)\n",
    "            counters[campaign_id] = counters[campaign_id] + 1 \n",
    "            #print(counters)\n",
    "        return counters\n",
    "        \n",
    "    campaign_impressions = count_by_campaign(df)\n",
    "    print('campaign_impressions')\n",
    "    print(campaign_impressions) #gives count of total campaigns\n",
    "    \n",
    "    df_converted = df[df['conversion'] == 1]\n",
    "    #df.groupby('Item')['Price'].transform(lambda x: x.value_counts().idxmax())\n",
    "    idx = df_converted.groupby(['jid'])['campaign'].transform(lambda x: x.value_counts().idxmax()) == df_converted['campaign']\n",
    "    campaign_conversions = count_by_campaign(df_converted[idx])\n",
    "    print('campaign_conversions')\n",
    "    print(campaign_conversions) #gives count of campaigns that are at max timestamp and are converted\n",
    "    print('campaign_conversions / campaign_impressions')    \n",
    "    print(campaign_conversions / campaign_impressions)    \n",
    "    return 1 / campaign_conversions\n",
    "    \n",
    "lin = linear(df6)"
   ]
  },
  {
   "cell_type": "code",
   "execution_count": 27,
   "metadata": {},
   "outputs": [
    {
     "data": {
      "image/png": "[encoded data removed]",
      "text/plain": [
       "<Figure size 720x288 with 1 Axes>"
      ]
     },
     "metadata": {
      "needs_background": "light"
     },
     "output_type": "display_data"
    }
   ],
   "source": [
    "# Visualization of the attribution scores\n",
    "\n",
    "campaign_idx = range(0, 20)\n",
    "\n",
    "fig = plt.figure(figsize=(10,4))\n",
    "ax = fig.add_subplot(111)\n",
    "plt.bar(range(len(lin[campaign_idx])), lin[campaign_idx], label='Linear' )\n",
    "plt.xlabel('Campaign ID')\n",
    "plt.ylabel('Return per impression')\n",
    "plt.legend(loc='upper left')\n",
    "plt.show()"
   ]
  },
  {
   "cell_type": "markdown",
   "metadata": {},
   "source": [
    "# Budget Optimization"
   ]
  },
  {
   "cell_type": "code",
   "execution_count": 28,
   "metadata": {},
   "outputs": [],
   "source": [
    "def simulate_budget_roi(df, budget_total, attribution, verbose=False):\n",
    "    budgets = np.ceil(attribution * (budget_total / np.sum(attribution)))\n",
    "    \n",
    "    if(verbose):\n",
    "        print(budgets)\n",
    "    \n",
    "    blacklist = set()\n",
    "    conversions = set()\n",
    "    for i in range(df.shape[0]):\n",
    "        campaign_id = get_campaign_id(df.loc[i]['campaigns']) \n",
    "        jid = df.loc[i]['jid']\n",
    "        if jid not in blacklist:\n",
    "            if budgets[campaign_id] >= 1:\n",
    "                budgets[campaign_id] = budgets[campaign_id] - 1\n",
    "                if(df.loc[i]['conversion'] == 1):\n",
    "                    conversions.add(jid)\n",
    "            else:\n",
    "                blacklist.add(jid)\n",
    "        \n",
    "        if(verbose):\n",
    "            if(i % 10000 == 0):\n",
    "                print('{:.2%} : {:.2%} budget spent'.format(i/df.shape[0], 1.0 - np.sum(budgets)/budget_total ))\n",
    "        \n",
    "        if(np.sum(budgets) < budget_total * 0.02):\n",
    "            break\n",
    "            \n",
    "    return len(conversions.difference(blacklist))"
   ]
  },
  {
   "cell_type": "code",
   "execution_count": 29,
   "metadata": {},
   "outputs": [],
   "source": [
    "def get_campaign_id(x_journey_step):\n",
    "    return np.argmax(x_journey_step[0:n_campaigns])"
   ]
  },
  {
   "cell_type": "code",
   "execution_count": 30,
   "metadata": {},
   "outputs": [
    {
     "name": "stdout",
     "output_type": "stream",
     "text": [
      "0 0 : 2047\n",
      "0 1 : 2047\n",
      "0 2 : 2006\n",
      "0 3 : 1801\n",
      "1 0 : 2148\n",
      "1 1 : 2148\n",
      "1 2 : 2076\n",
      "1 3 : 1550\n",
      "2 0 : 2314\n",
      "2 1 : 2314\n",
      "2 2 : 2193\n",
      "2 3 : 1140\n",
      "3 0 : 2647\n",
      "3 1 : 2647\n",
      "3 2 : 2413\n",
      "3 3 : 626\n",
      "4 0 : 2833\n",
      "4 1 : 2833\n",
      "4 2 : 2637\n",
      "4 3 : 414\n",
      "5 0 : 2927\n",
      "5 1 : 2927\n",
      "5 2 : 2908\n",
      "5 3 : 336\n",
      "6 0 : 2962\n",
      "6 1 : 2962\n",
      "6 2 : 3180\n",
      "6 3 : 303\n",
      "7 0 : 2968\n",
      "7 1 : 2968\n",
      "7 2 : 3499\n",
      "7 3 : 277\n"
     ]
    }
   ],
   "source": [
    "pitches = [0.1, 0.25, 0.5, 1.0, 1.5, 2.0, 2.5, 3.0]\n",
    "attributions = [lta,fta,keras_logreg,lin]\n",
    "\n",
    "for i, pitch in enumerate(pitches):\n",
    "    for j, attribution in enumerate(attributions):\n",
    "        reward = simulate_budget_roi(df6, 10000, attribution**pitch)\n",
    "        print('{} {} : {}'.format(i, j, reward))"
   ]
  },
  {
   "cell_type": "code",
   "execution_count": null,
   "metadata": {},
   "outputs": [],
   "source": []
  }
 ],
 "metadata": {
  "kernelspec": {
   "display_name": "Python 3",
   "language": "python",
   "name": "python3"
  },
  "language_info": {
   "codemirror_mode": {
    "name": "ipython",
    "version": 3
   },
   "file_extension": ".py",
   "mimetype": "text/x-python",
   "name": "python",
   "nbconvert_exporter": "python",
   "pygments_lexer": "ipython3",
   "version": "3.7.4"
  }
 },
 "nbformat": 4,
 "nbformat_minor": 2
}
